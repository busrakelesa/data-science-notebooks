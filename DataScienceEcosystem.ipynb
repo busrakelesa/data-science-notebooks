{
 "cells": [
  {
   "cell_type": "markdown",
   "id": "c954ae03-d6c9-4f97-a1a5-bcaef2d7d0bb",
   "metadata": {},
   "source": [
    "#Data Science Tools and Ecosystem"
   ]
  },
  {
   "cell_type": "markdown",
   "id": "4823c121-f1cb-4266-bbab-b481f3cac6c6",
   "metadata": {},
   "source": [
    "In this notebook, Data Science Tools and Ecosystem are summarized"
   ]
  },
  {
   "cell_type": "markdown",
   "id": "bf247965-c0b0-4e19-b336-d1c2a4f99a98",
   "metadata": {},
   "source": [
    "Some of the popular languages that Data Scientists use are:\n",
    "ordered list\n",
    "1. Python\n",
    "2. R\n",
    "3. SQL\n",
    "4. Julia"
   ]
  },
  {
   "cell_type": "markdown",
   "id": "8b5ef712-cbb4-4e81-8239-12b687a92275",
   "metadata": {},
   "source": [
    "**Objectives:**\n",
    "- List popular languages for Data Science\n",
    "- List commonly used libraries in Data Science\n",
    "- Create tables for Data Science tools\n",
    "- Convert minutes to hours using Python code\n"
   ]
  },
  {
   "cell_type": "markdown",
   "id": "d5c9dff8-82ed-4bea-ba07-86395df5d81a",
   "metadata": {},
   "source": [
    "Some of the commonly used libraries used by Data Scientists include: ordered list\n",
    "1. Numpy\n",
    "2. Pandas\n",
    "3. Tensorflow\n",
    "4. Matplotlib\n",
    "    "
   ]
  },
  {
   "cell_type": "markdown",
   "id": "3e901355-cb69-46a5-8ab8-767f4543feef",
   "metadata": {},
   "source": [
    "|Data Science Tools|\n",
    "|------------------|\n",
    "| Jupyter Notebook |\n",
    "| RStudio |\n",
    "| Spyder | "
   ]
  },
  {
   "cell_type": "markdown",
   "id": "dab1a1b7-41aa-445f-ac1f-322b6c2106cd",
   "metadata": {},
   "source": [
    "### Below are a few examples of evaluating arithmetic expressions in Python"
   ]
  },
  {
   "cell_type": "code",
   "execution_count": 1,
   "id": "8998a6fa-4e3d-4179-a6a2-ffadd4948e1c",
   "metadata": {
    "tags": []
   },
   "outputs": [
    {
     "data": {
      "text/plain": [
       "17"
      ]
     },
     "execution_count": 1,
     "metadata": {},
     "output_type": "execute_result"
    }
   ],
   "source": [
    "# This a simple arithmetic expression to mutiply then add integers\n",
    "(3*4)+5"
   ]
  },
  {
   "cell_type": "code",
   "execution_count": 2,
   "id": "03e4f85d-71dc-452b-88a8-114c38f0054d",
   "metadata": {
    "tags": []
   },
   "outputs": [
    {
     "data": {
      "text/plain": [
       "3.3333333333333335"
      ]
     },
     "execution_count": 2,
     "metadata": {},
     "output_type": "execute_result"
    }
   ],
   "source": [
    "# This will convert 200 minutes to hours by dividing by 60\n",
    "200/60\n"
   ]
  },
  {
   "cell_type": "markdown",
   "id": "280df5b4-15dd-4c7d-b659-844e083e454b",
   "metadata": {},
   "source": [
    "## Busra Keles Author\n"
   ]
  },
  {
   "cell_type": "code",
   "execution_count": null,
   "id": "b27b0c3d-f342-4d44-b9a4-aae31c221570",
   "metadata": {},
   "outputs": [],
   "source": []
  }
 ],
 "metadata": {
  "kernelspec": {
   "display_name": "Python",
   "language": "python",
   "name": "conda-env-python-py"
  },
  "language_info": {
   "codemirror_mode": {
    "name": "ipython",
    "version": 3
   },
   "file_extension": ".py",
   "mimetype": "text/x-python",
   "name": "python",
   "nbconvert_exporter": "python",
   "pygments_lexer": "ipython3",
   "version": "3.7.12"
  }
 },
 "nbformat": 4,
 "nbformat_minor": 5
}
